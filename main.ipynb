{
 "cells": [
  {
   "cell_type": "code",
   "execution_count": null,
   "metadata": {
    "colab": {
     "base_uri": "https://localhost:8080/"
    },
    "collapsed": true,
    "executionInfo": {
     "elapsed": 102807,
     "status": "ok",
     "timestamp": 1738611858957,
     "user": {
      "displayName": "cactus almasi",
      "userId": "10340650331342810186"
     },
     "user_tz": -210
    },
    "id": "doQaY4crVc6G",
    "outputId": "a86f57d9-900e-4118-f596-71b7ddff8540"
   },
   "outputs": [],
   "source": [
    "! pip install ultralytics"
   ]
  },
  {
   "cell_type": "code",
   "execution_count": 1,
   "metadata": {
    "colab": {
     "base_uri": "https://localhost:8080/"
    },
    "executionInfo": {
     "elapsed": 8596,
     "status": "ok",
     "timestamp": 1738611917130,
     "user": {
      "displayName": "cactus almasi",
      "userId": "10340650331342810186"
     },
     "user_tz": -210
    },
    "id": "XXbWJA9yVAg5",
    "outputId": "83e9e7c0-ffe2-4702-c552-60855e260fb1"
   },
   "outputs": [],
   "source": [
    "from ultralytics import YOLO\n",
    "import cv2"
   ]
  },
  {
   "cell_type": "code",
   "execution_count": 4,
   "metadata": {
    "colab": {
     "base_uri": "https://localhost:8080/"
    },
    "executionInfo": {
     "elapsed": 678,
     "status": "ok",
     "timestamp": 1738612166953,
     "user": {
      "displayName": "cactus almasi",
      "userId": "10340650331342810186"
     },
     "user_tz": -210
    },
    "id": "Tyo3Hi5jVV2Q",
    "outputId": "cb0128d5-6021-4b24-de77-04c0c24979fd"
   },
   "outputs": [],
   "source": [
    "model = YOLO('yolov8n.pt')\n",
    "path = './dataset/10.jpg'\n",
    "image = cv2.imread(path)"
   ]
  },
  {
   "cell_type": "code",
   "execution_count": 5,
   "metadata": {
    "id": "6gGwpzG3XEXu"
   },
   "outputs": [
    {
     "name": "stdout",
     "output_type": "stream",
     "text": [
      "\n",
      "image 1/1 h:\\Machine Learning\\NationalCard-ImageProccessing\\dataset\\10.jpg: 480x640 1 person, 1 bowl, 1 dining table, 1 cell phone, 1 book, 60.0ms\n",
      "Speed: 1.5ms preprocess, 60.0ms inference, 8.8ms postprocess per image at shape (1, 3, 480, 640)\n"
     ]
    }
   ],
   "source": [
    "res = model.predict(path, conf=0.2, save=False)\n",
    "res[0].plot()\n",
    "res[0].show()"
   ]
  },
  {
   "cell_type": "code",
   "execution_count": null,
   "metadata": {},
   "outputs": [],
   "source": [
    "img = cv2.imread(f'dataset/2.jpg')\n",
    "gray = cv2.cvtColor(img, cv2.COLOR_RGB2GRAY)\n",
    "threshold = cv2.adaptiveThreshold(gray, 255, cv2.ADAPTIVE_THRESH_GAUSSIAN_C, \n",
    "                                  cv2.THRESH_BINARY, 11, 2)\n",
    "cv2.imshow(\"threshold_card.jpg\", threshold)\n",
    "cv2.waitKey(0)"
   ]
  }
 ],
 "metadata": {
  "colab": {
   "authorship_tag": "ABX9TyMJ80N4RYF86/YordHBUF6D",
   "provenance": []
  },
  "kernelspec": {
   "display_name": "env",
   "language": "python",
   "name": "python3"
  },
  "language_info": {
   "codemirror_mode": {
    "name": "ipython",
    "version": 3
   },
   "file_extension": ".py",
   "mimetype": "text/x-python",
   "name": "python",
   "nbconvert_exporter": "python",
   "pygments_lexer": "ipython3",
   "version": "3.11.4"
  }
 },
 "nbformat": 4,
 "nbformat_minor": 0
}
